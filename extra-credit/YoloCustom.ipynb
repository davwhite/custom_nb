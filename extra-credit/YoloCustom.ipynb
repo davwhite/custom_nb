{
 "cells": [
  {
   "cell_type": "markdown",
   "id": "8d22f6c5-89af-477b-8012-259d3dca0036",
   "metadata": {},
   "source": [
    "**Clone the yolov5 repo and get dependencies.**"
   ]
  },
  {
   "cell_type": "code",
   "execution_count": 1,
   "id": "4ddd1700-e6fc-446d-aa49-b9dcd36b6891",
   "metadata": {},
   "outputs": [
    {
     "name": "stderr",
     "output_type": "stream",
     "text": [
      "YOLOv5 🚀 v7.0-134-g23c4923 Python-3.9.14 torch-2.0.0+cu117 CPU\n"
     ]
    },
    {
     "name": "stdout",
     "output_type": "stream",
     "text": [
      "Setup complete ✅ (8 CPUs, 15.6 GB RAM, 31.2/119.5 GB disk)\n"
     ]
    }
   ],
   "source": [
    "!git clone https://github.com/ultralytics/yolov5  # clone\n",
    "%cd yolov5\n",
    "%pip install -r requirements.txt  # install\n",
    "\n",
    "import torch\n",
    "import utils\n",
    "display = utils.notebook_init()  # checks"
   ]
  },
  {
   "cell_type": "markdown",
   "id": "1471653d-445e-4366-b5de-cc8aa7a53fdf",
   "metadata": {},
   "source": [
    "**Set variable for ocp domain**"
   ]
  },
  {
   "cell_type": "code",
   "execution_count": 2,
   "id": "9f8a0e97-f06a-4e84-a1ca-afdaee84a460",
   "metadata": {},
   "outputs": [
    {
     "name": "stdout",
     "output_type": "stream",
     "text": [
      "\u001b[34m\u001b[1mdetect: \u001b[0mweights=['yolov5s.pt'], source=data/images, data=data/coco128.yaml, imgsz=[640, 640], conf_thres=0.25, iou_thres=0.45, max_det=1000, device=, view_img=False, save_txt=False, save_conf=False, save_crop=False, nosave=False, classes=None, agnostic_nms=False, augment=False, visualize=False, update=False, project=runs/detect, name=exp, exist_ok=False, line_thickness=3, hide_labels=False, hide_conf=False, half=False, dnn=False, vid_stride=1\n",
      "YOLOv5 🚀 v7.0-134-g23c4923 Python-3.9.14 torch-2.0.0+cu117 CPU\n",
      "\n",
      "Downloading https://github.com/ultralytics/yolov5/releases/download/v7.0/yolov5s.pt to yolov5s.pt...\n",
      "100%|██████████████████████████████████████| 14.1M/14.1M [00:00<00:00, 24.4MB/s]\n",
      "\n",
      "Fusing layers... \n",
      "YOLOv5s summary: 213 layers, 7225885 parameters, 0 gradients\n",
      "image 1/2 /opt/app-root/src/yolov5/data/images/bus.jpg: 640x480 4 persons, 1 bus, 542.9ms\n",
      "image 2/2 /opt/app-root/src/yolov5/data/images/zidane.jpg: 384x640 2 persons, 2 ties, 263.5ms\n",
      "Speed: 0.5ms pre-process, 403.2ms inference, 0.9ms NMS per image at shape (1, 3, 640, 640)\n",
      "Results saved to \u001b[1mruns/detect/exp\u001b[0m\n"
     ]
    }
   ],
   "source": [
    "!python detect.py --weights yolov5s.pt --img 640 --conf 0.25 --source data/images\n",
    "# display.Image(filename='runs/detect/exp/zidane.jpg', width=600)"
   ]
  },
  {
   "cell_type": "markdown",
   "id": "1795e942-b910-4908-ae1f-7ef36537a5f9",
   "metadata": {},
   "source": [
    "**Download custom dataset and unzip**"
   ]
  },
  {
   "cell_type": "code",
   "execution_count": 3,
   "id": "64ffe123-d2fc-4e68-8d31-33d49040f73a",
   "metadata": {},
   "outputs": [
    {
     "name": "stdout",
     "output_type": "stream",
     "text": [
      "  % Total    % Received % Xferd  Average Speed   Time    Time     Time  Current\n",
      "                                 Dload  Upload   Total   Spent    Left  Speed\n",
      "100 6558k  100 6558k    0     0   640M      0 --:--:-- --:--:-- --:--:--  640M\n",
      "/opt/app-root/src/dataset\n"
     ]
    }
   ],
   "source": [
    "!mkdir /opt/app-root/src/dataset\n",
    "!curl -o /opt/app-root/src/dataset/dataset_flyingthings.tgz $ARTIPREFIX/dataset_flyingthings.tgz\n",
    "%cd /opt/app-root/src/dataset\n",
    "!tar xzf dataset_flyingthings.tgz"
   ]
  },
  {
   "cell_type": "markdown",
   "id": "93737cac-f3e4-40a5-b6a8-2c87a0bbe50a",
   "metadata": {},
   "source": [
    "**Run detect against the new dataset with the default pre trained model**"
   ]
  },
  {
   "cell_type": "code",
   "execution_count": null,
   "id": "ad5611f1-1f8a-4aab-b819-eb752b93ee24",
   "metadata": {},
   "outputs": [],
   "source": [
    "%cd /opt/app-root/src/yolov5\n",
    "!python detect.py --weights yolov5s.pt --img 640 --conf 0.25 --source /opt/app-root/src/dataset/valid/images"
   ]
  },
  {
   "cell_type": "markdown",
   "id": "440b1c81-c228-42a3-b0c5-770bc4b03d10",
   "metadata": {},
   "source": [
    "**Download custom trained model**"
   ]
  },
  {
   "cell_type": "code",
   "execution_count": 5,
   "id": "cbe91e19-f7a4-4c89-b963-a2e1e87c118e",
   "metadata": {},
   "outputs": [
    {
     "name": "stdout",
     "output_type": "stream",
     "text": [
      "/opt/app-root/src/yolov5\n",
      "  % Total    % Received % Xferd  Average Speed   Time    Time     Time  Current\n",
      "                                 Dload  Upload   Total   Spent    Left  Speed\n",
      "100 13.7M  100 13.7M    0     0   861M      0 --:--:-- --:--:-- --:--:--  861M\n",
      "  % Total    % Received % Xferd  Average Speed   Time    Time     Time  Current\n",
      "                                 Dload  Upload   Total   Spent    Left  Speed\n",
      "100   135  100   135    0     0  67500      0 --:--:-- --:--:-- --:--:-- 67500\n"
     ]
    }
   ],
   "source": [
    "%cd /opt/app-root/src/yolov5\n",
    "!curl -o flyingthings.pt $ARTIPREFIX/flyingthings.pt\n",
    "!curl -o data/flyingthings.yaml $ARTIPREFIX/flyingthings.yaml"
   ]
  },
  {
   "cell_type": "markdown",
   "id": "6316bd9f-8859-4bf4-b5a6-100e9a04202a",
   "metadata": {},
   "source": [
    "**Run detect against the new dataset with custom weights file from custom training**"
   ]
  },
  {
   "cell_type": "code",
   "execution_count": 6,
   "id": "7227c4e8-da79-473a-8737-d554bfbbb985",
   "metadata": {},
   "outputs": [
    {
     "name": "stdout",
     "output_type": "stream",
     "text": [
      "/opt/app-root/src/yolov5\n",
      "\u001b[34m\u001b[1mdetect: \u001b[0mweights=['flyingthings.pt'], source=/opt/app-root/src/dataset/valid/images, data=data/coco128.yaml, imgsz=[640, 640], conf_thres=0.25, iou_thres=0.45, max_det=1000, device=, view_img=False, save_txt=False, save_conf=False, save_crop=False, nosave=False, classes=None, agnostic_nms=False, augment=False, visualize=False, update=False, project=runs/detect, name=exp, exist_ok=False, line_thickness=3, hide_labels=False, hide_conf=False, half=False, dnn=False, vid_stride=1\n",
      "YOLOv5 🚀 v7.0-134-g23c4923 Python-3.9.14 torch-2.0.0+cu117 CPU\n",
      "\n",
      "Fusing layers... \n",
      "Model summary: 213 layers, 7015519 parameters, 0 gradients, 15.8 GFLOPs\n",
      "image 1/73 /opt/app-root/src/dataset/valid/images/HELI_C1_101_jpg.rf.07c648ece664ab6efca5c79ae4f50af2.jpg: 640x640 1 helicopter, 505.6ms\n",
      "image 2/73 /opt/app-root/src/dataset/valid/images/HELI_C1_104_jpg.rf.4c8d429b6ffaa7b6f2b3c5cd08dda1d2.jpg: 640x640 2 helicopters, 401.9ms\n",
      "image 3/73 /opt/app-root/src/dataset/valid/images/HELI_C1_113_jpg.rf.aa03fa46d6c294e67ec8aceb9761adea.jpg: 640x640 1 helicopter, 396.2ms\n",
      "image 4/73 /opt/app-root/src/dataset/valid/images/HELI_C1_117_jpg.rf.164cd3f91bb33cc39267c7dd695e580d.jpg: 640x640 1 helicopter, 395.8ms\n",
      "image 5/73 /opt/app-root/src/dataset/valid/images/HELI_C1_124_jpg.rf.ec70cfe2e20aea34dec17b1dc47153bc.jpg: 640x640 1 airplane, 1 helicopter, 584.3ms\n",
      "image 6/73 /opt/app-root/src/dataset/valid/images/HELI_C1_126_jpg.rf.753b4087f2835667d3901e5e393d097f.jpg: 640x640 1 helicopter, 406.9ms\n",
      "image 7/73 /opt/app-root/src/dataset/valid/images/HELI_C1_127_jpg.rf.e697ba57c829a8a71b3e6d8797b6857f.jpg: 640x640 1 helicopter, 378.8ms\n",
      "image 8/73 /opt/app-root/src/dataset/valid/images/HELI_C1_128_jpg.rf.c61f941f746517211e57e7f1d4f836be.jpg: 640x640 1 helicopter, 399.1ms\n",
      "image 9/73 /opt/app-root/src/dataset/valid/images/HELI_C1_138_jpg.rf.efcbe056f5dab2e6e1e3243dbe4cd8bb.jpg: 640x640 1 helicopter, 395.3ms\n",
      "image 10/73 /opt/app-root/src/dataset/valid/images/HELI_C1_140_jpg.rf.04ecf42f1b006fad629b7d65c87d0f66.jpg: 640x640 1 helicopter, 579.3ms\n",
      "image 11/73 /opt/app-root/src/dataset/valid/images/HELI_C1_142_jpg.rf.1ca7d70ff09608d3be620b5cab3ffc31.jpg: 640x640 1 helicopter, 511.6ms\n",
      "image 12/73 /opt/app-root/src/dataset/valid/images/HELI_C1_149_jpg.rf.01c30323f3486dda466aacd042ad603b.jpg: 640x640 1 helicopter, 565.2ms\n",
      "image 13/73 /opt/app-root/src/dataset/valid/images/HELI_C1_159_jpg.rf.91d21f711c9d0333e4c33f90ac7cd1b5.jpg: 640x640 1 helicopter, 495.6ms\n",
      "image 14/73 /opt/app-root/src/dataset/valid/images/HELI_C1_162_jpg.rf.ce27dea10945557548c54b7928f3a325.jpg: 640x640 1 airplane, 584.0ms\n",
      "image 15/73 /opt/app-root/src/dataset/valid/images/HELI_C1_164_jpg.rf.24d7bb435f8719ef9893b47288aa1805.jpg: 640x640 1 helicopter, 313.6ms\n",
      "image 16/73 /opt/app-root/src/dataset/valid/images/HELI_C1_166_jpg.rf.1e609db1498ba3da6db11534b9bc1178.jpg: 640x640 1 helicopter, 396.7ms\n",
      "image 17/73 /opt/app-root/src/dataset/valid/images/HELI_C1_16_jpg.rf.f9a231a022671aaf31e770a63b9f448f.jpg: 640x640 1 helicopter, 319.4ms\n",
      "image 18/73 /opt/app-root/src/dataset/valid/images/HELI_C1_170_jpg.rf.7347f194f84944a87cebcec799e0f861.jpg: 640x640 1 helicopter, 386.1ms\n",
      "image 19/73 /opt/app-root/src/dataset/valid/images/HELI_C1_174_jpg.rf.19c582a7e4e24ed0478dff8cca0e7e90.jpg: 640x640 1 helicopter, 388.5ms\n",
      "image 20/73 /opt/app-root/src/dataset/valid/images/HELI_C1_177_jpg.rf.6bb0384b79cc3e55b94c4b415f0a6ae1.jpg: 640x640 1 helicopter, 388.7ms\n",
      "image 21/73 /opt/app-root/src/dataset/valid/images/HELI_C1_178_jpg.rf.775cc304dbb20060728786ccccbfc4bc.jpg: 640x640 1 helicopter, 375.4ms\n",
      "image 22/73 /opt/app-root/src/dataset/valid/images/HELI_C1_18_jpg.rf.29d2c30c10ad03ba2efe9eac1b187cb5.jpg: 640x640 1 helicopter, 387.3ms\n",
      "image 23/73 /opt/app-root/src/dataset/valid/images/HELI_C1_20_jpg.rf.d4446e7943ffcffee6200320ec395331.jpg: 640x640 1 helicopter, 303.6ms\n",
      "image 24/73 /opt/app-root/src/dataset/valid/images/HELI_C1_22_jpg.rf.d2390dede9c3cd52ac473319bbf5b0c4.jpg: 640x640 1 helicopter, 394.3ms\n",
      "image 25/73 /opt/app-root/src/dataset/valid/images/HELI_C1_3_jpg.rf.a6cd2c2b766cacaf4087257d626f16bb.jpg: 640x640 (no detections), 490.5ms\n",
      "image 26/73 /opt/app-root/src/dataset/valid/images/HELI_C1_43_jpg.rf.8680d3e4c16e3183820ecab0c523cbfe.jpg: 640x640 1 helicopter, 479.2ms\n",
      "image 27/73 /opt/app-root/src/dataset/valid/images/HELI_C1_48_jpg.rf.94e70a1e8a17d824606d5b6cc22a1d17.jpg: 640x640 1 helicopter, 395.2ms\n",
      "image 28/73 /opt/app-root/src/dataset/valid/images/HELI_C1_49_jpg.rf.02a1d49abb5097057c65eede82369715.jpg: 640x640 1 helicopter, 385.0ms\n",
      "image 29/73 /opt/app-root/src/dataset/valid/images/HELI_C1_52_jpg.rf.bfc5f3a0ce4b98e8bf0ca68f4f055fa6.jpg: 640x640 1 helicopter, 401.1ms\n",
      "image 30/73 /opt/app-root/src/dataset/valid/images/HELI_C1_56_jpg.rf.80dde3ddbcfc7973e174c713faa19a56.jpg: 640x640 1 helicopter, 318.0ms\n",
      "image 31/73 /opt/app-root/src/dataset/valid/images/HELI_C1_57_jpg.rf.b37d0963ac70d84704a6b209418191a2.jpg: 640x640 1 helicopter, 470.3ms\n",
      "image 32/73 /opt/app-root/src/dataset/valid/images/HELI_C1_65_jpg.rf.19cc364c83252537053e5e24ad96d028.jpg: 640x640 (no detections), 492.9ms\n",
      "image 33/73 /opt/app-root/src/dataset/valid/images/HELI_C1_71_jpg.rf.6a76a17cd205f68ead03206b023c5e10.jpg: 640x640 1 helicopter, 407.0ms\n",
      "image 34/73 /opt/app-root/src/dataset/valid/images/HELI_C1_76_jpg.rf.95bd983cbe4932f57579dbd622582852.jpg: 640x640 1 helicopter, 587.7ms\n",
      "image 35/73 /opt/app-root/src/dataset/valid/images/HELI_C1_78_jpg.rf.bcc5a30d7255f5ac12821d93e6fa4bcc.jpg: 640x640 1 helicopter, 701.1ms\n",
      "image 36/73 /opt/app-root/src/dataset/valid/images/HELI_C1_79_jpg.rf.e579d0f8c03a0881b3072706be25d0e2.jpg: 640x640 1 helicopter, 386.0ms\n",
      "image 37/73 /opt/app-root/src/dataset/valid/images/HELI_C1_83_jpg.rf.ccb04f157debcc83cc2ebc12494dcc06.jpg: 640x640 1 helicopter, 395.9ms\n",
      "image 38/73 /opt/app-root/src/dataset/valid/images/HELI_C1_85_jpg.rf.7725e6568ca2284c80a07f1b583c7a1b.jpg: 640x640 1 helicopter, 315.2ms\n",
      "image 39/73 /opt/app-root/src/dataset/valid/images/HELI_C1_87_jpg.rf.3ad70cd79f29c27778a8bc92f215e27e.jpg: 640x640 1 helicopter, 489.1ms\n",
      "image 40/73 /opt/app-root/src/dataset/valid/images/HELI_C1_97_jpg.rf.84044563b6d56e64e9c4cba2f44cbc43.jpg: 640x640 1 helicopter, 395.4ms\n",
      "image 41/73 /opt/app-root/src/dataset/valid/images/a--100-_jpg.rf.23a353328889e8d1fa55bfa45d2dca85.jpg: 640x640 1 airplane, 594.2ms\n",
      "image 42/73 /opt/app-root/src/dataset/valid/images/a--11-_jpg.rf.f540f427cf2a74d6a8fc42e1bfee4f2a.jpg: 640x640 1 airplane, 383.8ms\n",
      "image 43/73 /opt/app-root/src/dataset/valid/images/a--113-_jpg.rf.337c5e91d4bdb3f88e4393ff8708336d.jpg: 640x640 1 airplane, 394.3ms\n",
      "image 44/73 /opt/app-root/src/dataset/valid/images/a--116-_jpg.rf.cdd6eef3fa395444b00a000243dcb901.jpg: 640x640 1 airplane, 390.8ms\n",
      "image 45/73 /opt/app-root/src/dataset/valid/images/a--117-_jpg.rf.a65d7a384918d7149c2e1d98384f3b62.jpg: 640x640 1 helicopter, 593.8ms\n",
      "image 46/73 /opt/app-root/src/dataset/valid/images/a--119-_jpg.rf.724affa9a400b3fa0888df6f3e654ab1.jpg: 640x640 1 airplane, 477.6ms\n",
      "image 47/73 /opt/app-root/src/dataset/valid/images/a--121-_jpg.rf.a85341bbf98aafeaf3d755503cf46156.jpg: 640x640 1 airplane, 490.6ms\n",
      "image 48/73 /opt/app-root/src/dataset/valid/images/a--122-_jpg.rf.938ad048a41f1b596b08c430e86fa285.jpg: 640x640 1 airplane, 500.7ms\n",
      "image 49/73 /opt/app-root/src/dataset/valid/images/a--127-_jpg.rf.c019389c34c481d43b4f4fc56c71612d.jpg: 640x640 (no detections), 494.9ms\n",
      "image 50/73 /opt/app-root/src/dataset/valid/images/a--128-_jpg.rf.503a1ac7949a8a3776807936f7ffbb88.jpg: 640x640 1 airplane, 693.5ms\n",
      "image 51/73 /opt/app-root/src/dataset/valid/images/a--133-_jpg.rf.d0dd9d7949babb3041e232155187d7c5.jpg: 640x640 1 airplane, 503.6ms\n",
      "image 52/73 /opt/app-root/src/dataset/valid/images/a--134-_jpg.rf.ab21795bb158d3cfbcaf4188bdb981ab.jpg: 640x640 1 airplane, 494.8ms\n",
      "image 53/73 /opt/app-root/src/dataset/valid/images/a--137-_jpg.rf.2796d30b4a68540ade758c7b12c7ed9c.jpg: 640x640 1 airplane, 488.9ms\n",
      "image 54/73 /opt/app-root/src/dataset/valid/images/a--137-_jpg.rf.70fee858287f85c6847ca5a8fb0dc834.jpg: 640x640 1 airplane, 672.3ms\n",
      "image 55/73 /opt/app-root/src/dataset/valid/images/a--138-_jpg.rf.cbd0e7fed1d2be20f502e673b9074019.jpg: 640x640 1 airplane, 309.7ms\n",
      "image 56/73 /opt/app-root/src/dataset/valid/images/a--140-_jpg.rf.ec4678d5115972deba08e4280a4b1092.jpg: 640x640 1 airplane, 682.8ms\n",
      "image 57/73 /opt/app-root/src/dataset/valid/images/a--143-_jpg.rf.398ae77e0e64b350f5206861d19969ef.jpg: 640x640 1 airplane, 687.6ms\n",
      "image 58/73 /opt/app-root/src/dataset/valid/images/a--143-_jpg.rf.6d624a9dde6e58f87a20cc70ec021fa2.jpg: 640x640 1 airplane, 671.4ms\n",
      "image 59/73 /opt/app-root/src/dataset/valid/images/a--156-_jpg.rf.48a509efb560ae4ce4ea05d607c532e7.jpg: 640x640 1 airplane, 590.0ms\n",
      "image 60/73 /opt/app-root/src/dataset/valid/images/a--160-_jpg.rf.45fe71f58c9e38dca9ffb07713341ad4.jpg: 640x640 1 airplane, 414.9ms\n",
      "image 61/73 /opt/app-root/src/dataset/valid/images/a--164-_jpg.rf.6633778d32aa260bbeba058c12710154.jpg: 640x640 1 airplane, 668.3ms\n",
      "image 62/73 /opt/app-root/src/dataset/valid/images/a--171-_jpg.rf.e233aab221de0cb677db1677e40e65fb.jpg: 640x640 1 airplane, 406.8ms\n",
      "image 63/73 /opt/app-root/src/dataset/valid/images/a--172-_jpg.rf.b3231318e4392a1af544aeb96944bcd7.jpg: 640x640 1 airplane, 488.3ms\n",
      "image 64/73 /opt/app-root/src/dataset/valid/images/a--18-_jpg.rf.192a3cd419de2597faf13c24938cdcb5.jpg: 640x640 1 airplane, 799.3ms\n",
      "image 65/73 /opt/app-root/src/dataset/valid/images/a--182-_jpg.rf.6329e046d86af2fa4e448a616a83e148.jpg: 640x640 1 airplane, 492.4ms\n",
      "image 66/73 /opt/app-root/src/dataset/valid/images/a--183-_jpg.rf.56d1b2391fff81f8c2ece74f4d5cd65d.jpg: 640x640 1 airplane, 773.4ms\n",
      "image 67/73 /opt/app-root/src/dataset/valid/images/a--186-_jpg.rf.3c3dc47d4f0ffb9474832521ba8713dc.jpg: 640x640 1 airplane, 507.7ms\n",
      "image 68/73 /opt/app-root/src/dataset/valid/images/a--186-_jpg.rf.dcec713be2d6b8f3a4e0243a2e4fa4b5.jpg: 640x640 1 airplane, 486.6ms\n",
      "image 69/73 /opt/app-root/src/dataset/valid/images/a--190-_jpg.rf.a772edbeb3ec2a63d46467e16250adc0.jpg: 640x640 2 airplanes, 600.1ms\n",
      "image 70/73 /opt/app-root/src/dataset/valid/images/a--190-_jpg.rf.f78a17f2367d6f54daa36c9d2e80f0a9.jpg: 640x640 1 airplane, 680.4ms\n",
      "image 71/73 /opt/app-root/src/dataset/valid/images/a--193-_jpg.rf.d9c2cc5d08af0bc0d81a9226a9bfb1b5.jpg: 640x640 1 airplane, 466.2ms\n",
      "image 72/73 /opt/app-root/src/dataset/valid/images/a--195-_jpg.rf.5bd9fb4ac05e8befa548c20af76f867c.jpg: 640x640 1 airplane, 689.6ms\n",
      "image 73/73 /opt/app-root/src/dataset/valid/images/a--197-_jpg.rf.88ce128027a182883c75fc3717024837.jpg: 640x640 1 airplane, 495.2ms\n",
      "Speed: 1.8ms pre-process, 485.6ms inference, 1.7ms NMS per image at shape (1, 3, 640, 640)\n",
      "Results saved to \u001b[1mruns/detect/exp3\u001b[0m\n"
     ]
    }
   ],
   "source": [
    "%cd /opt/app-root/src/yolov5\n",
    "!python detect.py --weights flyingthings.pt --img 640 --conf 0.25 --source /opt/app-root/src/dataset/valid/images"
   ]
  },
  {
   "cell_type": "markdown",
   "id": "28190bd0",
   "metadata": {},
   "source": [
    "**Train a model using the uploaded dataset**"
   ]
  },
  {
   "cell_type": "code",
   "execution_count": null,
   "id": "e50673fd-e8a9-4eac-8f52-c97f612b3bfc",
   "metadata": {},
   "outputs": [],
   "source": [
    "%cd /opt/app-root/src/yolov5\n",
    "# !python train.py --img 640 --batch 16 --epochs 3 --data coco128.yaml --weights yolov5s.pt --cache\n",
    "# !python3 train.py --data flyingthings.yaml --batch-size 10 --weights yolov5s.pt --project ${TRAINING_DATA} --img 640 --epochs 3\n",
    "!python3 train.py --data flyingthings.yaml --batch-size 1 --weights yolov5s.pt --img 640 --epochs 1"
   ]
  }
 ],
 "metadata": {
  "kernelspec": {
   "display_name": "Python 3.9.14",
   "language": "python",
   "name": "python3"
  },
  "language_info": {
   "codemirror_mode": {
    "name": "ipython",
    "version": 3
   },
   "file_extension": ".py",
   "mimetype": "text/x-python",
   "name": "python",
   "nbconvert_exporter": "python",
   "pygments_lexer": "ipython3",
   "version": "3.9.14"
  }
 },
 "nbformat": 4,
 "nbformat_minor": 5
}
