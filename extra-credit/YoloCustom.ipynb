{
 "cells": [
  {
   "cell_type": "markdown",
   "id": "8d22f6c5-89af-477b-8012-259d3dca0036",
   "metadata": {},
   "source": [
    "**Clone the yolov5 repo and get dependencies.**"
   ]
  },
  {
   "cell_type": "code",
   "execution_count": null,
   "id": "4ddd1700-e6fc-446d-aa49-b9dcd36b6891",
   "metadata": {},
   "outputs": [],
   "source": [
    "!git clone https://github.com/ultralytics/yolov5  # clone\n",
    "%cd yolov5\n",
    "%pip install -r requirements.txt  # install\n",
    "\n",
    "import torch\n",
    "import utils\n",
    "display = utils.notebook_init()  # checks"
   ]
  },
  {
   "cell_type": "markdown",
   "id": "1471653d-445e-4366-b5de-cc8aa7a53fdf",
   "metadata": {},
   "source": [
    "**Set variable for ocp domain**"
   ]
  },
  {
   "cell_type": "code",
   "execution_count": 27,
   "id": "af0bb5d7-8006-4922-b597-cca8947b500c",
   "metadata": {},
   "outputs": [
    {
     "name": "stdout",
     "output_type": "stream",
     "text": [
      "env: NEXUS_PREFIX=\"http://\" + NEXUS_SERVERNAME + \".apps.\" + CLUSTER_NAME + \".\" + CLUSTER_DOMAIN\n"
     ]
    }
   ],
   "source": [
    "NEXUS_SERVERNAME=\"nexus3-nexus\"\n",
    "CLUSTER_NAME=\"ocp4\"\n",
    "CLUSTER_DOMAIN=\"davenet.local\"\n",
    "%env NEXUS_PREFIX=\"http://\" + NEXUS_SERVERNAME + \".apps.\" + CLUSTER_NAME + \".\" + CLUSTER_DOMAIN"
   ]
  },
  {
   "cell_type": "markdown",
   "id": "39698b27-d5d4-466d-8799-276c4db040da",
   "metadata": {},
   "source": [
    "**Do a test detection with default model training and sample images**"
   ]
  },
  {
   "cell_type": "code",
   "execution_count": null,
   "id": "9f8a0e97-f06a-4e84-a1ca-afdaee84a460",
   "metadata": {},
   "outputs": [],
   "source": [
    "!python detect.py --weights yolov5s.pt --img 640 --conf 0.25 --source data/images\n",
    "# display.Image(filename='runs/detect/exp/zidane.jpg', width=600)"
   ]
  },
  {
   "cell_type": "markdown",
   "id": "1795e942-b910-4908-ae1f-7ef36537a5f9",
   "metadata": {},
   "source": [
    "**Download custom dataset and unzip**"
   ]
  },
  {
   "cell_type": "code",
   "execution_count": 29,
   "id": "64ffe123-d2fc-4e68-8d31-33d49040f73a",
   "metadata": {},
   "outputs": [
    {
     "name": "stdout",
     "output_type": "stream",
     "text": [
      "  % Total    % Received % Xferd  Average Speed   Time    Time     Time  Current\n",
      "                                 Dload  Upload   Total   Spent    Left  Speed\n",
      "100 6558k  100 6558k    0     0  94.1M      0 --:--:-- --:--:-- --:--:-- 92.8M\n",
      "/opt/app-root/src/dataset\n"
     ]
    }
   ],
   "source": [
    "!mkdir /opt/app-root/src/dataset\n",
    "!curl -o /opt/app-root/src/dataset/dataset_flyingthings.tgz $NEXUS_PREFIX/repository/simplevis/dataset_flyingthings.tgz\n",
    "%cd /opt/app-root/src/dataset\n",
    "!tar xzf dataset_flyingthings.tgz"
   ]
  },
  {
   "cell_type": "markdown",
   "id": "93737cac-f3e4-40a5-b6a8-2c87a0bbe50a",
   "metadata": {},
   "source": [
    "**Run detect against the new dataset with the default pre trained model**"
   ]
  },
  {
   "cell_type": "code",
   "execution_count": null,
   "id": "ad5611f1-1f8a-4aab-b819-eb752b93ee24",
   "metadata": {},
   "outputs": [],
   "source": [
    "%cd /opt/app-root/src/yolov5\n",
    "!python detect.py --weights yolov5s.pt --img 640 --conf 0.25 --source /opt/app-root/src/dataset/valid/images"
   ]
  },
  {
   "cell_type": "markdown",
   "id": "440b1c81-c228-42a3-b0c5-770bc4b03d10",
   "metadata": {},
   "source": [
    "**Download custom trained model**"
   ]
  },
  {
   "cell_type": "code",
   "execution_count": 30,
   "id": "cbe91e19-f7a4-4c89-b963-a2e1e87c118e",
   "metadata": {},
   "outputs": [
    {
     "name": "stdout",
     "output_type": "stream",
     "text": [
      "/opt/app-root/src/yolov5\n",
      "  % Total    % Received % Xferd  Average Speed   Time    Time     Time  Current\n",
      "                                 Dload  Upload   Total   Spent    Left  Speed\n",
      "100 13.7M  100 13.7M    0     0  98.4M      0 --:--:-- --:--:-- --:--:-- 98.4M\n",
      "  % Total    % Received % Xferd  Average Speed   Time    Time     Time  Current\n",
      "                                 Dload  Upload   Total   Spent    Left  Speed\n",
      "100   135  100   135    0     0  33750      0 --:--:-- --:--:-- --:--:-- 33750\n"
     ]
    }
   ],
   "source": [
    "%cd /opt/app-root/src/yolov5\n",
    "!curl -o flyingthings.pt $NEXUS_PREFIX/repository/simplevis/flyingthings.pt\n",
    "!curl -o data/flyingthings.yaml $NEXUS_PREFIX/repository/simplevis/flyingthings.yaml"
   ]
  },
  {
   "cell_type": "markdown",
   "id": "6316bd9f-8859-4bf4-b5a6-100e9a04202a",
   "metadata": {},
   "source": [
    "**Run detect against the new dataset with custom weights file from custom training**"
   ]
  },
  {
   "cell_type": "code",
   "execution_count": null,
   "id": "7227c4e8-da79-473a-8737-d554bfbbb985",
   "metadata": {},
   "outputs": [],
   "source": [
    "%cd /opt/app-root/src/yolov5\n",
    "!python detect.py --weights flyingthings.pt --img 640 --conf 0.25 --source /opt/app-root/src/dataset/valid/images"
   ]
  },
  {
   "cell_type": "markdown",
   "id": "28190bd0",
   "metadata": {},
   "source": [
    "**Train a model using the uploaded dataset**"
   ]
  },
  {
   "cell_type": "code",
   "execution_count": null,
   "id": "e50673fd-e8a9-4eac-8f52-c97f612b3bfc",
   "metadata": {},
   "outputs": [],
   "source": [
    "%cd /opt/app-root/src/yolov5\n",
    "# !python train.py --img 640 --batch 16 --epochs 3 --data coco128.yaml --weights yolov5s.pt --cache\n",
    "# !python3 train.py --data flyingthings.yaml --batch-size 10 --weights yolov5s.pt --project ${TRAINING_DATA} --img 640 --epochs 3\n",
    "!python3 train.py --data flyingthings.yaml --batch-size 1 --weights yolov5s.pt --img 640 --epochs 1"
   ]
  }
 ],
 "metadata": {
  "kernelspec": {
   "display_name": "Python 3.9.14",
   "language": "python",
   "name": "python3"
  },
  "language_info": {
   "codemirror_mode": {
    "name": "ipython",
    "version": 3
   },
   "file_extension": ".py",
   "mimetype": "text/x-python",
   "name": "python",
   "nbconvert_exporter": "python",
   "pygments_lexer": "ipython3",
   "version": "3.9.14"
  }
 },
 "nbformat": 4,
 "nbformat_minor": 5
}
